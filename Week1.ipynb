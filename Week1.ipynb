{
  "nbformat": 4,
  "nbformat_minor": 0,
  "metadata": {
    "colab": {
      "provenance": [],
      "include_colab_link": true
    },
    "kernelspec": {
      "name": "python3",
      "display_name": "Python 3"
    },
    "language_info": {
      "name": "python"
    }
  },
  "cells": [
    {
      "cell_type": "markdown",
      "metadata": {
        "id": "view-in-github",
        "colab_type": "text"
      },
      "source": [
        "<a href=\"https://colab.research.google.com/github/moyohussein/ai-basics/blob/main/Week1.ipynb\" target=\"_parent\"><img src=\"https://colab.research.google.com/assets/colab-badge.svg\" alt=\"Open In Colab\"/></a>"
      ]
    },
    {
      "cell_type": "markdown",
      "source": [
        "# Programming"
      ],
      "metadata": {
        "id": "YJkI-Ij5pUUS"
      }
    },
    {
      "cell_type": "markdown",
      "source": [
        "input (void) -> output (void)"
      ],
      "metadata": {
        "id": "UKY4TxD7pWqV"
      }
    },
    {
      "cell_type": "code",
      "execution_count": null,
      "metadata": {
        "colab": {
          "base_uri": "https://localhost:8080/"
        },
        "id": "KrI8LLKDpRYx",
        "outputId": "a21261ca-02b7-4da0-a55c-3f1f8e38a9d1"
      },
      "outputs": [
        {
          "output_type": "stream",
          "name": "stdout",
          "text": [
            "Hello world\n"
          ]
        }
      ],
      "source": [
        "print(\"Hello world\")"
      ]
    },
    {
      "cell_type": "markdown",
      "source": [
        "#AI Programming\n",
        "\n",
        "Software Development -> Deterministic Rules (5 times -> Same output)\n",
        "add(a,b) -> 1,2 1,2 ... -> 3\n",
        "\n",
        "Machine Learning -> Probabilistic algorithm\n",
        "error rate, accuracy, recall, precision\n",
        "Positive Negative\n",
        "False Positive, False Negative\n"
      ],
      "metadata": {
        "id": "hupc6SxQpqQV"
      }
    },
    {
      "cell_type": "markdown",
      "source": [
        "(Applied) AI Engineering (Compound problems)\n",
        "\n",
        "- Software Engineering (Deterministic)\n",
        "- Machine Learning (Probability) -> Deep Learning -> Generative AI\n",
        "- Data Engineering (Pipelines - Deterministic)"
      ],
      "metadata": {
        "id": "L2omWROyqQ14"
      }
    },
    {
      "cell_type": "code",
      "source": [
        "# Strings\n",
        "print(\"Hello Olumide!\")"
      ],
      "metadata": {
        "colab": {
          "base_uri": "https://localhost:8080/"
        },
        "id": "kYo4UE7epmfU",
        "outputId": "d9469f63-c675-4075-ae6d-6e808544ca96"
      },
      "execution_count": null,
      "outputs": [
        {
          "output_type": "stream",
          "name": "stdout",
          "text": [
            "Hello Olumide!\n"
          ]
        }
      ]
    },
    {
      "cell_type": "code",
      "source": [
        "sentence = \"\"\"\n",
        "Hello Mr {name}\n",
        "Hello Number 1\n",
        "Hello Number 1\n",
        "Hello Number 1\n",
        "Hello Number 1\n",
        "\"\"\"\n",
        "print(sentence)"
      ],
      "metadata": {
        "colab": {
          "base_uri": "https://localhost:8080/"
        },
        "id": "adEQNPQ1rO1C",
        "outputId": "497e22ce-e850-4c97-932f-10ed872b7279"
      },
      "execution_count": null,
      "outputs": [
        {
          "output_type": "stream",
          "name": "stdout",
          "text": [
            "\n",
            "Hello Number 1\n",
            "Hello Number 1\n",
            "Hello Number 1\n",
            "Hello Number 1\n",
            "Hello Number 1\n",
            "\n"
          ]
        }
      ]
    },
    {
      "cell_type": "code",
      "source": [
        "type(sentence)\n"
      ],
      "metadata": {
        "colab": {
          "base_uri": "https://localhost:8080/"
        },
        "id": "LqzbqW09rYUG",
        "outputId": "753f6860-9001-4b0d-a41d-7b858ada0bd3"
      },
      "execution_count": null,
      "outputs": [
        {
          "output_type": "execute_result",
          "data": {
            "text/plain": [
              "str"
            ]
          },
          "metadata": {},
          "execution_count": 11
        }
      ]
    },
    {
      "cell_type": "code",
      "source": [
        "type(1.30)\n",
        "\n"
      ],
      "metadata": {
        "colab": {
          "base_uri": "https://localhost:8080/"
        },
        "id": "TCB90HLFrqch",
        "outputId": "b67c6137-14e8-42eb-936e-8e532a1c7103"
      },
      "execution_count": null,
      "outputs": [
        {
          "output_type": "execute_result",
          "data": {
            "text/plain": [
              "float"
            ]
          },
          "metadata": {},
          "execution_count": 10
        }
      ]
    },
    {
      "cell_type": "code",
      "source": [
        "type(100)"
      ],
      "metadata": {
        "colab": {
          "base_uri": "https://localhost:8080/"
        },
        "id": "Y5ny7dd1rwm1",
        "outputId": "bfa22bdb-a0c1-43b5-994b-b6bd282ae913"
      },
      "execution_count": null,
      "outputs": [
        {
          "output_type": "execute_result",
          "data": {
            "text/plain": [
              "int"
            ]
          },
          "metadata": {},
          "execution_count": 12
        }
      ]
    },
    {
      "cell_type": "code",
      "source": [
        "!pip install -q pydantic"
      ],
      "metadata": {
        "id": "7UA0zGFssRY2"
      },
      "execution_count": null,
      "outputs": []
    },
    {
      "cell_type": "code",
      "source": [
        "from re import L\n",
        "from os import name\n",
        "from pydantic import BaseModel\n",
        "from typing import Optional, List\n",
        "\n",
        "# Define data model/structure\n",
        "# Validate\n",
        "\n",
        "class ReceiptItem(BaseModel):\n",
        "    name: str\n",
        "    price: float\n",
        "    quantity: int\n",
        "\n",
        "class Receipt(BaseModel):\n",
        "    company_name: str\n",
        "    items: List[ReceiptItem]\n",
        "\n",
        "\n"
      ],
      "metadata": {
        "id": "HPyJQgexsWdM"
      },
      "execution_count": null,
      "outputs": []
    },
    {
      "cell_type": "code",
      "source": [
        "!pip install -q instructor \"instructor[google-generativeai]\""
      ],
      "metadata": {
        "id": "6N-sjivCtVOT"
      },
      "execution_count": null,
      "outputs": []
    },
    {
      "cell_type": "markdown",
      "source": [
        "1. HTTP Request to LLM API\n",
        "2. OpenAI SDK -> OpenAI API(ChatGPT, Gemini, Azure)\n",
        "3. Other SDK -> Langchain, LlamaIndex, Haystack, Instructor"
      ],
      "metadata": {
        "id": "WCODxDa5tqTn"
      }
    },
    {
      "cell_type": "code",
      "source": [
        "import instructor\n",
        "import google.generativeai as genai\n",
        "from pydantic import BaseModel\n",
        "\n",
        "from google.colab import userdata\n",
        "api_key = userdata.get('GOOGLE_API_KEY')\n",
        "import os\n",
        "# os.environ[\"GOOGLE_API_KEY\"] = api_key\n",
        "genai.configure(api_key=api_key)\n",
        "\n",
        "client = instructor.from_gemini(\n",
        "    client=genai.GenerativeModel(\n",
        "        model_name=\"models/gemini-1.5-flash-latest\",\n",
        "    ),\n",
        "    mode=instructor.Mode.GEMINI_JSON,\n",
        ")\n",
        "\n",
        "# note that client.chat.completions.create will also work\n",
        "resp = client.messages.create(\n",
        "    messages=[\n",
        "        {\n",
        "            \"role\": \"user\",\n",
        "            \"content\": \"I bought two packs of rice at $22.50 and 2 milks at $10\",\n",
        "        }\n",
        "    ],\n",
        "    response_model=Receipt,\n",
        ")\n",
        "\n",
        "assert isinstance(resp, Receipt)\n",
        "# assert resp.name == \"Jason\"\n",
        "# assert resp.age == 25"
      ],
      "metadata": {
        "id": "QlmEKuNBtW6P"
      },
      "execution_count": null,
      "outputs": []
    },
    {
      "cell_type": "code",
      "source": [
        "resp.model_dump()"
      ],
      "metadata": {
        "colab": {
          "base_uri": "https://localhost:8080/"
        },
        "id": "h2Qb1PZxu7MO",
        "outputId": "df702018-36aa-4954-efa4-9896cd70aa6d"
      },
      "execution_count": null,
      "outputs": [
        {
          "output_type": "execute_result",
          "data": {
            "text/plain": [
              "{'company_name': 'Grocery Store',\n",
              " 'items': [{'name': 'rice', 'price': 22.5, 'quantity': 2},\n",
              "  {'name': 'milk', 'price': 10.0, 'quantity': 2}]}"
            ]
          },
          "metadata": {},
          "execution_count": 25
        }
      ]
    },
    {
      "cell_type": "markdown",
      "source": [
        "Input -> (Stage1) -> (Stage2) -> Output"
      ],
      "metadata": {
        "id": "DMzVA2s4vZft"
      }
    },
    {
      "cell_type": "code",
      "source": [
        "class Character(BaseModel):\n",
        "  name: str\n",
        "  skills: str\n",
        "  personality: str\n",
        "\n",
        "class StoryOutline(BaseModel):\n",
        "  title: str\n",
        "  characters: List[Character]\n",
        "\n",
        "\n",
        "resp = client.messages.create(\n",
        "    messages=[\n",
        "        {\n",
        "            \"role\": \"user\",\n",
        "            \"content\": \"Create an outline for a story about Nigerian History and include 10 characters\",\n",
        "        }\n",
        "    ],\n",
        "    response_model=StoryOutline,\n",
        ")\n",
        "\n",
        "resp.model_dump()"
      ],
      "metadata": {
        "colab": {
          "base_uri": "https://localhost:8080/",
          "height": 571
        },
        "id": "8m9sPifFu-Wz",
        "outputId": "1738880d-1376-46b7-87ea-2cb633665cac"
      },
      "execution_count": null,
      "outputs": [
        {
          "output_type": "execute_result",
          "data": {
            "text/plain": [
              "{'title': 'Nigeria: A Nation Forged',\n",
              " 'characters': [{'name': 'Amina of Zazzau',\n",
              "   'skills': 'Warrior queen, skilled diplomat, strategist',\n",
              "   'personality': 'Strong-willed, courageous, intelligent'},\n",
              "  {'name': 'Ahmadu Bello',\n",
              "   'skills': 'Political leader, orator, administrator',\n",
              "   'personality': 'Charismatic, influential, visionary'},\n",
              "  {'name': 'Nnamdi Azikiwe',\n",
              "   'skills': 'Politician, journalist, writer',\n",
              "   'personality': 'Articulate, charismatic, nationalist'},\n",
              "  {'name': 'Obafemi Awolowo',\n",
              "   'skills': 'Politician, economist, writer',\n",
              "   'personality': 'Pragmatic, intelligent, principled'},\n",
              "  {'name': 'Herbert Macaulay',\n",
              "   'skills': 'Politician, journalist, nationalist',\n",
              "   'personality': 'Fiercely independent, outspoken, determined'},\n",
              "  {'name': 'Margaret Ekpo',\n",
              "   'skills': \"Women's rights activist, politician\",\n",
              "   'personality': 'Courageous, outspoken, determined'},\n",
              "  {'name': 'Funmilayo Ransome-Kuti',\n",
              "   'skills': \"Women's rights activist, teacher, political organizer\",\n",
              "   'personality': 'Bold, fearless, passionate'},\n",
              "  {'name': 'Olaudah Equiano',\n",
              "   'skills': 'Writer, abolitionist',\n",
              "   'personality': 'Reflective, eloquent, determined'},\n",
              "  {'name': 'Wole Soyinka',\n",
              "   'skills': 'Playwright, poet, novelist',\n",
              "   'personality': 'Critical, insightful, rebellious'},\n",
              "  {'name': 'Chinua Achebe',\n",
              "   'skills': 'Novelist, professor',\n",
              "   'personality': 'Reflective, insightful, critical'}]}"
            ]
          },
          "metadata": {},
          "execution_count": 26
        }
      ]
    }
  ]
}